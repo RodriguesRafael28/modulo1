{
  "nbformat": 4,
  "nbformat_minor": 0,
  "metadata": {
    "colab": {
      "provenance": []
    },
    "kernelspec": {
      "name": "python3",
      "display_name": "Python 3"
    },
    "language_info": {
      "name": "python"
    }
  },
  "cells": [
    {
      "cell_type": "code",
      "execution_count": 3,
      "metadata": {
        "colab": {
          "base_uri": "https://localhost:8080/"
        },
        "id": "cTbxUXCxyB8U",
        "outputId": "b1602066-8bbc-4c2e-a830-cad2f46354b3"
      },
      "outputs": [
        {
          "output_type": "stream",
          "name": "stdout",
          "text": [
            "0\n",
            "1\n",
            "2\n",
            "3\n",
            "4\n",
            "5\n",
            "6\n",
            "7\n",
            "8\n",
            "9\n"
          ]
        }
      ],
      "source": [
        "#for\n",
        "for contador in range(10):\n",
        "  print(contador)\n",
        ""
      ]
    },
    {
      "cell_type": "code",
      "source": [
        "#for range + break\n",
        "for contador in range(20):\n",
        "  print(contador)\n",
        "  if contador ==10:\n",
        "    break"
      ],
      "metadata": {
        "colab": {
          "base_uri": "https://localhost:8080/"
        },
        "id": "4dMRaL7oyXUu",
        "outputId": "39d00ee7-b58e-4e6d-ecc6-2f8750520c09"
      },
      "execution_count": 4,
      "outputs": [
        {
          "output_type": "stream",
          "name": "stdout",
          "text": [
            "0\n",
            "1\n",
            "2\n",
            "3\n",
            "4\n",
            "5\n",
            "6\n",
            "7\n",
            "8\n",
            "9\n",
            "10\n"
          ]
        }
      ]
    },
    {
      "cell_type": "code",
      "source": [
        "lista=['teste1', 'teste2']"
      ],
      "metadata": {
        "id": "4wdIa7CPyw6_"
      },
      "execution_count": 5,
      "outputs": []
    },
    {
      "cell_type": "code",
      "source": [
        "#for simples\n",
        "for val in lista:\n",
        "  print(val)"
      ],
      "metadata": {
        "colab": {
          "base_uri": "https://localhost:8080/"
        },
        "id": "ZBS_8t97y7P0",
        "outputId": "cb332032-f4d0-4c9a-b698-fed7f5c5e087"
      },
      "execution_count": 6,
      "outputs": [
        {
          "output_type": "stream",
          "name": "stdout",
          "text": [
            "teste1\n",
            "teste2\n"
          ]
        }
      ]
    },
    {
      "cell_type": "code",
      "source": [
        "#for com enumerate\n",
        "for i, val in enumerate(lista):\n",
        "  print(i, val)"
      ],
      "metadata": {
        "colab": {
          "base_uri": "https://localhost:8080/"
        },
        "id": "P7xHJrUfzJvB",
        "outputId": "0a381124-2d63-4b5a-d967-f85f34f56e70"
      },
      "execution_count": 10,
      "outputs": [
        {
          "output_type": "stream",
          "name": "stdout",
          "text": [
            "0 teste1\n",
            "1 teste2\n"
          ]
        }
      ]
    },
    {
      "cell_type": "code",
      "source": [
        "#for com operadores compostos\n",
        "lista2=[2, 3, 4]\n",
        "\n",
        "for val in lista2:\n",
        "  val+=2\n",
        "  print(val)"
      ],
      "metadata": {
        "colab": {
          "base_uri": "https://localhost:8080/"
        },
        "id": "AVtGZ55zzrAe",
        "outputId": "b88a69ef-90bc-4cb7-cffb-da660e9c34a1"
      },
      "execution_count": 11,
      "outputs": [
        {
          "output_type": "stream",
          "name": "stdout",
          "text": [
            "4\n",
            "5\n",
            "6\n"
          ]
        }
      ]
    },
    {
      "cell_type": "code",
      "source": [
        "for val in lista2:\n",
        "  val*=2\n",
        "  print(val)"
      ],
      "metadata": {
        "colab": {
          "base_uri": "https://localhost:8080/"
        },
        "id": "4uSncYWV0CO_",
        "outputId": "395da114-ba03-4d64-a46f-5abee84dc037"
      },
      "execution_count": 13,
      "outputs": [
        {
          "output_type": "stream",
          "name": "stdout",
          "text": [
            "4\n",
            "6\n",
            "8\n"
          ]
        }
      ]
    },
    {
      "cell_type": "code",
      "source": [
        "#while\n",
        "val=1\n",
        "while(val<9):\n",
        "  val+=2\n",
        "  print(val)"
      ],
      "metadata": {
        "colab": {
          "base_uri": "https://localhost:8080/"
        },
        "id": "aNrASxww0UBT",
        "outputId": "460cc42d-bd40-4d23-889d-655a5c9384db"
      },
      "execution_count": 14,
      "outputs": [
        {
          "output_type": "stream",
          "name": "stdout",
          "text": [
            "3\n",
            "5\n",
            "7\n",
            "9\n"
          ]
        }
      ]
    },
    {
      "cell_type": "code",
      "source": [
        "#while / else\n",
        "val=1\n",
        "while val<9:\n",
        "  val+=15\n",
        "else:\n",
        "  print('valor de val é ', val)"
      ],
      "metadata": {
        "colab": {
          "base_uri": "https://localhost:8080/"
        },
        "id": "gQeXveV-04N8",
        "outputId": "32758b04-92a6-48ca-d27b-21f8059ce0c2"
      },
      "execution_count": 16,
      "outputs": [
        {
          "output_type": "stream",
          "name": "stdout",
          "text": [
            "valor de val é  16\n"
          ]
        }
      ]
    }
  ]
}