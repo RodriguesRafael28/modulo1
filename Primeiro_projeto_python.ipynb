{
  "nbformat": 4,
  "nbformat_minor": 0,
  "metadata": {
    "colab": {
      "provenance": []
    },
    "kernelspec": {
      "name": "python3",
      "display_name": "Python 3"
    },
    "language_info": {
      "name": "python"
    }
  },
  "cells": [
    {
      "cell_type": "markdown",
      "source": [
        "# OPERADORES ARITIMÉTICOS\n",
        "\n"
      ],
      "metadata": {
        "id": "Vgc-exDnI4p0"
      }
    },
    {
      "cell_type": "code",
      "execution_count": 3,
      "metadata": {
        "colab": {
          "base_uri": "https://localhost:8080/",
          "height": 0
        },
        "id": "Elyp3MypHyqO",
        "outputId": "5b054d50-95a7-4584-ab77-0362ef4b0bdd"
      },
      "outputs": [
        {
          "output_type": "execute_result",
          "data": {
            "text/plain": [
              "3"
            ]
          },
          "metadata": {},
          "execution_count": 3
        }
      ],
      "source": [
        "\n",
        "#ADIÇÃO\n",
        "2+1"
      ]
    },
    {
      "cell_type": "code",
      "source": [
        "#SUBTRAÇÃO\n",
        "2-1"
      ],
      "metadata": {
        "colab": {
          "base_uri": "https://localhost:8080/",
          "height": 0
        },
        "id": "H91MnpNAN3qY",
        "outputId": "0d01104a-f042-47ea-d947-14c9eb5d8a71"
      },
      "execution_count": 4,
      "outputs": [
        {
          "output_type": "execute_result",
          "data": {
            "text/plain": [
              "1"
            ]
          },
          "metadata": {},
          "execution_count": 4
        }
      ]
    },
    {
      "cell_type": "code",
      "source": [
        "#MUTIPLICAÇÃO\n",
        "2*2"
      ],
      "metadata": {
        "colab": {
          "base_uri": "https://localhost:8080/"
        },
        "id": "Jwt6JQZmN-hN",
        "outputId": "e650d77e-02cf-4e8f-c300-e225fc79b1fa"
      },
      "execution_count": 6,
      "outputs": [
        {
          "output_type": "execute_result",
          "data": {
            "text/plain": [
              "4"
            ]
          },
          "metadata": {},
          "execution_count": 6
        }
      ]
    },
    {
      "cell_type": "code",
      "source": [
        "#DIVISÃO\n",
        "10/2"
      ],
      "metadata": {
        "colab": {
          "base_uri": "https://localhost:8080/"
        },
        "id": "3tr-fpyAOFAY",
        "outputId": "120a04c5-c883-43b1-8e75-bd0bd86c0248"
      },
      "execution_count": 7,
      "outputs": [
        {
          "output_type": "execute_result",
          "data": {
            "text/plain": [
              "5.0"
            ]
          },
          "metadata": {},
          "execution_count": 7
        }
      ]
    },
    {
      "cell_type": "code",
      "source": [
        "#DIVISÃO INTEIRA\n",
        "11//2"
      ],
      "metadata": {
        "colab": {
          "base_uri": "https://localhost:8080/"
        },
        "id": "Uqnt4WOFOJQq",
        "outputId": "f31d4c70-fded-4321-e5dc-e58620446c6f"
      },
      "execution_count": 9,
      "outputs": [
        {
          "output_type": "execute_result",
          "data": {
            "text/plain": [
              "5"
            ]
          },
          "metadata": {},
          "execution_count": 9
        }
      ]
    },
    {
      "cell_type": "code",
      "source": [
        "#RESTO DA DIVISÃO\n",
        "11%2"
      ],
      "metadata": {
        "colab": {
          "base_uri": "https://localhost:8080/"
        },
        "id": "sTNk0zZiOTXl",
        "outputId": "87fe8df0-41f5-4156-e2c2-25a93cc669aa"
      },
      "execution_count": 10,
      "outputs": [
        {
          "output_type": "execute_result",
          "data": {
            "text/plain": [
              "1"
            ]
          },
          "metadata": {},
          "execution_count": 10
        }
      ]
    },
    {
      "cell_type": "code",
      "source": [
        "#POTENCIAÇÃO\n",
        "10**2"
      ],
      "metadata": {
        "colab": {
          "base_uri": "https://localhost:8080/"
        },
        "id": "A0USPvHROYU_",
        "outputId": "b0a11599-c68b-4f01-8ff5-1674ff683792"
      },
      "execution_count": 5,
      "outputs": [
        {
          "output_type": "execute_result",
          "data": {
            "text/plain": [
              "100"
            ]
          },
          "metadata": {},
          "execution_count": 5
        }
      ]
    },
    {
      "cell_type": "markdown",
      "source": [
        "# OPERADORES RELACIONAIS\n"
      ],
      "metadata": {
        "id": "-TqeuE0xOubv"
      }
    },
    {
      "cell_type": "code",
      "source": [
        "#MENOR\n",
        "10<5"
      ],
      "metadata": {
        "colab": {
          "base_uri": "https://localhost:8080/"
        },
        "id": "NdjjcLxuO11f",
        "outputId": "26de9edf-ca60-4997-ce4f-1d40e5faa651"
      },
      "execution_count": 11,
      "outputs": [
        {
          "output_type": "execute_result",
          "data": {
            "text/plain": [
              "False"
            ]
          },
          "metadata": {},
          "execution_count": 11
        }
      ]
    },
    {
      "cell_type": "code",
      "source": [
        "#MAIOR\n",
        "10>5"
      ],
      "metadata": {
        "colab": {
          "base_uri": "https://localhost:8080/"
        },
        "id": "Q2G4cENTPDO6",
        "outputId": "f9c10596-0d6f-4e72-ea6d-dbfa7c9ba0de"
      },
      "execution_count": 12,
      "outputs": [
        {
          "output_type": "execute_result",
          "data": {
            "text/plain": [
              "True"
            ]
          },
          "metadata": {},
          "execution_count": 12
        }
      ]
    },
    {
      "cell_type": "code",
      "source": [
        "#MENOR OU IGUAL\n",
        "10<=5"
      ],
      "metadata": {
        "colab": {
          "base_uri": "https://localhost:8080/"
        },
        "id": "5WesBLXGPHH-",
        "outputId": "8a56ae24-3208-4884-aaa5-f3e12f81976a"
      },
      "execution_count": 13,
      "outputs": [
        {
          "output_type": "execute_result",
          "data": {
            "text/plain": [
              "False"
            ]
          },
          "metadata": {},
          "execution_count": 13
        }
      ]
    },
    {
      "cell_type": "code",
      "source": [
        "#MAIOR OU IGUAL\n",
        "10>=5"
      ],
      "metadata": {
        "colab": {
          "base_uri": "https://localhost:8080/"
        },
        "id": "iyLxhwF1POJy",
        "outputId": "5fe280d1-2d3b-42be-98a9-4fd7150af83c"
      },
      "execution_count": 15,
      "outputs": [
        {
          "output_type": "execute_result",
          "data": {
            "text/plain": [
              "True"
            ]
          },
          "metadata": {},
          "execution_count": 15
        }
      ]
    },
    {
      "cell_type": "code",
      "source": [
        "#IGUAL\n",
        "7==7"
      ],
      "metadata": {
        "colab": {
          "base_uri": "https://localhost:8080/"
        },
        "id": "VgFdYk46Pb_2",
        "outputId": "844d5cfd-bba3-4b4d-a8db-79e5d5c19b93"
      },
      "execution_count": 16,
      "outputs": [
        {
          "output_type": "execute_result",
          "data": {
            "text/plain": [
              "True"
            ]
          },
          "metadata": {},
          "execution_count": 16
        }
      ]
    },
    {
      "cell_type": "code",
      "source": [
        "#DIFERENTE\n",
        "7!=7"
      ],
      "metadata": {
        "colab": {
          "base_uri": "https://localhost:8080/"
        },
        "id": "wfhD5y3OPfGf",
        "outputId": "c294d30e-ff6a-48b2-cbb6-f8dd092f6159"
      },
      "execution_count": 17,
      "outputs": [
        {
          "output_type": "execute_result",
          "data": {
            "text/plain": [
              "False"
            ]
          },
          "metadata": {},
          "execution_count": 17
        }
      ]
    },
    {
      "cell_type": "markdown",
      "source": [
        "# OPERADORES LÓGICOS\n",
        "## TABELA DA VERDADE\n",
        "\n",
        "\n",
        "\n",
        "1.   AND\n",
        "2.   OR\n",
        "3.   NOT\n",
        "\n",
        "\n",
        "\n",
        "\n"
      ],
      "metadata": {
        "id": "CKCd9oawPxqw"
      }
    },
    {
      "cell_type": "markdown",
      "source": [
        "and\n"
      ],
      "metadata": {
        "id": "zlG0akOhR5Sm"
      }
    },
    {
      "cell_type": "code",
      "source": [
        "print(10>2 and 4<6) # V and V = V\n",
        "print(10>2 and 4>6) # V and F = F\n",
        "print(10<2 and 4<6) # F and V = F\n",
        "print(10<2 and 4>6) # F and F = F"
      ],
      "metadata": {
        "colab": {
          "base_uri": "https://localhost:8080/"
        },
        "id": "EpEzxfwHR8GO",
        "outputId": "b9da65a0-dd79-4804-eebd-89080d368793"
      },
      "execution_count": 20,
      "outputs": [
        {
          "output_type": "stream",
          "name": "stdout",
          "text": [
            "True\n",
            "False\n",
            "False\n",
            "False\n"
          ]
        }
      ]
    },
    {
      "cell_type": "markdown",
      "source": [
        "or"
      ],
      "metadata": {
        "id": "nAB-TM9-TDBH"
      }
    },
    {
      "cell_type": "code",
      "source": [
        "print(10>2 or 4>6) # V or F = V\n",
        "print(10>2 or 4<6) # V or V = V\n",
        "print(10<2 or 4<6) # F or V = V\n",
        "print(10<2 or 4>6) # F or F = F\n"
      ],
      "metadata": {
        "colab": {
          "base_uri": "https://localhost:8080/"
        },
        "id": "gwre-ZktTEbU",
        "outputId": "a5cdde9a-75d8-4815-c7f4-aa75aea07f9b"
      },
      "execution_count": 21,
      "outputs": [
        {
          "output_type": "stream",
          "name": "stdout",
          "text": [
            "True\n",
            "True\n",
            "True\n",
            "False\n"
          ]
        }
      ]
    },
    {
      "cell_type": "markdown",
      "source": [
        "not"
      ],
      "metadata": {
        "id": "XEReO8y6UGC2"
      }
    },
    {
      "cell_type": "code",
      "source": [
        "not 10>2 # V=F"
      ],
      "metadata": {
        "colab": {
          "base_uri": "https://localhost:8080/"
        },
        "id": "UYGCsAw4UHsG",
        "outputId": "41246232-f821-4704-d47a-5e447d578ef5"
      },
      "execution_count": 24,
      "outputs": [
        {
          "output_type": "execute_result",
          "data": {
            "text/plain": [
              "False"
            ]
          },
          "metadata": {},
          "execution_count": 24
        }
      ]
    },
    {
      "cell_type": "code",
      "source": [
        "not 10<2 # F=V"
      ],
      "metadata": {
        "colab": {
          "base_uri": "https://localhost:8080/"
        },
        "id": "RP0DSn9wUnT8",
        "outputId": "930f2e68-8579-4d61-99a9-c6d1c3015343"
      },
      "execution_count": 25,
      "outputs": [
        {
          "output_type": "execute_result",
          "data": {
            "text/plain": [
              "True"
            ]
          },
          "metadata": {},
          "execution_count": 25
        }
      ]
    }
  ]
}