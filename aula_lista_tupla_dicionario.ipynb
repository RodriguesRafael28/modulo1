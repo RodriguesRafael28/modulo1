{
  "nbformat": 4,
  "nbformat_minor": 0,
  "metadata": {
    "colab": {
      "provenance": []
    },
    "kernelspec": {
      "name": "python3",
      "display_name": "Python 3"
    },
    "language_info": {
      "name": "python"
    }
  },
  "cells": [
    {
      "cell_type": "code",
      "execution_count": 1,
      "metadata": {
        "colab": {
          "base_uri": "https://localhost:8080/"
        },
        "id": "OV2TiXs-GYor",
        "outputId": "c285ae70-bc81-4bf1-d4e7-6f85d35d36aa"
      },
      "outputs": [
        {
          "output_type": "execute_result",
          "data": {
            "text/plain": [
              "[1, 2, 3, 4, 5]"
            ]
          },
          "metadata": {},
          "execution_count": 1
        }
      ],
      "source": [
        "#lista\n",
        "[1, 2, 3, 4, 5]"
      ]
    },
    {
      "cell_type": "code",
      "source": [
        "#tupla\n",
        "(1, 2, 3, 4, 5)"
      ],
      "metadata": {
        "colab": {
          "base_uri": "https://localhost:8080/"
        },
        "id": "iUn723nSG0Yl",
        "outputId": "1bd3b641-52e8-459f-c1e3-40f39fcc6695"
      },
      "execution_count": 2,
      "outputs": [
        {
          "output_type": "execute_result",
          "data": {
            "text/plain": [
              "(1, 2, 3, 4, 5)"
            ]
          },
          "metadata": {},
          "execution_count": 2
        }
      ]
    },
    {
      "cell_type": "code",
      "source": [
        "#dicionário\n",
        "{'num1':1, 'num2':2, 'num3':3, 'num4':4, 'num5':5}"
      ],
      "metadata": {
        "colab": {
          "base_uri": "https://localhost:8080/"
        },
        "id": "KupB1bb3G5r4",
        "outputId": "8445e632-cdc0-4382-9c6a-ff60accd9254"
      },
      "execution_count": 5,
      "outputs": [
        {
          "output_type": "execute_result",
          "data": {
            "text/plain": [
              "{'num1': 1, 'num2': 2, 'num3': 3, 'num4': 4, 'num5': 5}"
            ]
          },
          "metadata": {},
          "execution_count": 5
        }
      ]
    },
    {
      "cell_type": "code",
      "source": [
        "#lista\n",
        "lista=[10, 'rafael', 9, 'rodrigues']\n",
        "type(lista)\n",
        "print(lista)\n",
        "print(lista[0])\n",
        "print(lista[1])\n",
        "print(lista[2])\n",
        "print(lista[3])\n",
        "\n",
        "lista.append('adicionar elemento na lista') #append para adicionar elemento na lista\n",
        "print(lista)"
      ],
      "metadata": {
        "colab": {
          "base_uri": "https://localhost:8080/"
        },
        "id": "yy3cGykEHU6l",
        "outputId": "4266b9b3-dfd7-469e-9b7e-71ef141085dc"
      },
      "execution_count": 14,
      "outputs": [
        {
          "output_type": "stream",
          "name": "stdout",
          "text": [
            "[10, 'rafael', 9, 'rodrigues']\n",
            "10\n",
            "rafael\n",
            "9\n",
            "rodrigues\n",
            "[10, 'rafael', 9, 'rodrigues', 'adicionar elemento na lista']\n"
          ]
        }
      ]
    },
    {
      "cell_type": "code",
      "source": [
        "#tupla\n",
        "tupla=(10, 'rafael', 9, 'rodrigues')\n",
        "type(tupla)\n",
        "tupla.append('adicionar elemento na lista') #no caso da tupla não se pode adicionar elemento sem ser na tupla original\n"
      ],
      "metadata": {
        "colab": {
          "base_uri": "https://localhost:8080/"
        },
        "id": "apNQAyF9H9BI",
        "outputId": "6913240a-adb0-474b-8ddb-b34598b419b6"
      },
      "execution_count": 17,
      "outputs": [
        {
          "output_type": "execute_result",
          "data": {
            "text/plain": [
              "tuple"
            ]
          },
          "metadata": {},
          "execution_count": 17
        }
      ]
    },
    {
      "cell_type": "code",
      "source": [
        "print(tupla)"
      ],
      "metadata": {
        "colab": {
          "base_uri": "https://localhost:8080/"
        },
        "id": "hdR1BBkbI-lQ",
        "outputId": "1f46926c-d18f-4d38-9a90-f287ce12a1a1"
      },
      "execution_count": 18,
      "outputs": [
        {
          "output_type": "stream",
          "name": "stdout",
          "text": [
            "(10, 'rafael', 9, 'rodrigues')\n"
          ]
        }
      ]
    },
    {
      "cell_type": "code",
      "source": [
        "#dicionario\n",
        "dicionario={'nome':'rafael', 'cidade':'são josé do rio preto'}\n",
        "type(dicionario)\n",
        "print(dicionario)\n",
        "print(dicionario['cidade'])\n",
        "dicionario['ultimo nome']='rodrigues'\n",
        "print(dicionario)"
      ],
      "metadata": {
        "colab": {
          "base_uri": "https://localhost:8080/"
        },
        "id": "jmbLwqJFJLFI",
        "outputId": "b4940718-456b-49aa-b577-f4c5f0dd416e"
      },
      "execution_count": 29,
      "outputs": [
        {
          "output_type": "stream",
          "name": "stdout",
          "text": [
            "{'nome': 'rafael', 'cidade': 'são josé do rio preto'}\n",
            "são josé do rio preto\n",
            "{'nome': 'rafael', 'cidade': 'são josé do rio preto', 'ultimo nome': 'rodrigues'}\n"
          ]
        }
      ]
    }
  ]
}