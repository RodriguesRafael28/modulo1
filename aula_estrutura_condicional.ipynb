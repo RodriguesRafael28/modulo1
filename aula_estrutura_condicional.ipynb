{
  "nbformat": 4,
  "nbformat_minor": 0,
  "metadata": {
    "colab": {
      "provenance": []
    },
    "kernelspec": {
      "name": "python3",
      "display_name": "Python 3"
    },
    "language_info": {
      "name": "python"
    }
  },
  "cells": [
    {
      "cell_type": "code",
      "source": [
        "#if\n",
        "if(5<10):\n",
        "  print('verdade')"
      ],
      "metadata": {
        "colab": {
          "base_uri": "https://localhost:8080/"
        },
        "id": "men0izN7v8rQ",
        "outputId": "a5feed15-01aa-4fe9-e54d-40a227706d18"
      },
      "execution_count": 3,
      "outputs": [
        {
          "output_type": "stream",
          "name": "stdout",
          "text": [
            "verdade\n"
          ]
        }
      ]
    },
    {
      "cell_type": "code",
      "source": [
        "#if/else\n",
        "num1=100\n",
        "num2=200\n",
        "\n",
        "if num1>num2:\n",
        "  print('num1 é maior')\n",
        "else:\n",
        "  print('num2 é maior')"
      ],
      "metadata": {
        "colab": {
          "base_uri": "https://localhost:8080/"
        },
        "id": "xK2h2b7owOE7",
        "outputId": "161767de-9761-4c2e-fee0-7a39b4c2326d"
      },
      "execution_count": 15,
      "outputs": [
        {
          "output_type": "stream",
          "name": "stdout",
          "text": [
            "num2 é maior\n"
          ]
        }
      ]
    },
    {
      "cell_type": "code",
      "source": [
        "#if/elif/else\n",
        "num1=1000\n",
        "num2=1000\n",
        "\n",
        "if num1>num2:\n",
        "  print('num1 é maior')\n",
        "elif num1<num2:\n",
        "  print('num2 é maior')\n",
        "else:\n",
        "  print('são números iguais')"
      ],
      "metadata": {
        "colab": {
          "base_uri": "https://localhost:8080/"
        },
        "id": "GvjiX1z5x214",
        "outputId": "f426264f-e5e8-488c-f29a-d46370fddb2b"
      },
      "execution_count": 19,
      "outputs": [
        {
          "output_type": "stream",
          "name": "stdout",
          "text": [
            "são números iguais\n"
          ]
        }
      ]
    },
    {
      "cell_type": "code",
      "source": [
        "#condicionais com operadores lógicos\n",
        "\n",
        "num1=100\n",
        "num2=50\n",
        "num3=20\n",
        "\n",
        "if num1>num2 and num1>num3:\n",
        "  print('num1 é o maior número')\n",
        "else:\n",
        "  print('num1 não é o maior número')"
      ],
      "metadata": {
        "colab": {
          "base_uri": "https://localhost:8080/"
        },
        "id": "KQnMolQlyrOP",
        "outputId": "81b4aed8-8498-4121-f12f-5800579d2651"
      },
      "execution_count": 23,
      "outputs": [
        {
          "output_type": "stream",
          "name": "stdout",
          "text": [
            "num1 é o maior número\n"
          ]
        }
      ]
    }
  ]
}