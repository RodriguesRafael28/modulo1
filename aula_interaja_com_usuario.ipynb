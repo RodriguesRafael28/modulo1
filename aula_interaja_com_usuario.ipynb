{
  "nbformat": 4,
  "nbformat_minor": 0,
  "metadata": {
    "colab": {
      "provenance": []
    },
    "kernelspec": {
      "name": "python3",
      "display_name": "Python 3"
    },
    "language_info": {
      "name": "python"
    }
  },
  "cells": [
    {
      "cell_type": "markdown",
      "source": [
        "COMANDO PRINT"
      ],
      "metadata": {
        "id": "KLSs8RrcSUIc"
      }
    },
    {
      "cell_type": "code",
      "execution_count": 1,
      "metadata": {
        "colab": {
          "base_uri": "https://localhost:8080/"
        },
        "id": "lfGT1UZ6RDRj",
        "outputId": "81b131bb-fa43-4e00-ddd2-a82798253965"
      },
      "outputs": [
        {
          "output_type": "stream",
          "name": "stdout",
          "text": [
            "8\n"
          ]
        }
      ],
      "source": [
        "#comando print\n",
        "x=8\n",
        "print(x)"
      ]
    },
    {
      "cell_type": "code",
      "source": [
        "#soma\n",
        "y=2\n",
        "soma=x+y\n",
        "print(soma)"
      ],
      "metadata": {
        "colab": {
          "base_uri": "https://localhost:8080/"
        },
        "id": "9PK4YqGiRrQF",
        "outputId": "89b82e5f-6706-4fe5-9fa8-5123b7cd08fe"
      },
      "execution_count": 3,
      "outputs": [
        {
          "output_type": "stream",
          "name": "stdout",
          "text": [
            "10\n"
          ]
        }
      ]
    },
    {
      "cell_type": "code",
      "source": [
        "#nome\n",
        "nome=\"Rafael\"\n",
        "print(nome)"
      ],
      "metadata": {
        "colab": {
          "base_uri": "https://localhost:8080/"
        },
        "id": "-iOgR6sQRw0s",
        "outputId": "1bf0fbd6-71c3-4650-c00c-3b9876550e01"
      },
      "execution_count": 7,
      "outputs": [
        {
          "output_type": "stream",
          "name": "stdout",
          "text": [
            "Rafael\n"
          ]
        }
      ]
    },
    {
      "cell_type": "markdown",
      "source": [
        "CONCATENAÇÃO\n"
      ],
      "metadata": {
        "id": "zHOEHyMaSeCz"
      }
    },
    {
      "cell_type": "code",
      "source": [
        "x=5\n",
        "print(\"o valor de x é\", x)"
      ],
      "metadata": {
        "colab": {
          "base_uri": "https://localhost:8080/"
        },
        "id": "7fl4491ZSiYK",
        "outputId": "290a7554-d1f7-49b7-c137-37ed7f92cdcc"
      },
      "execution_count": 8,
      "outputs": [
        {
          "output_type": "stream",
          "name": "stdout",
          "text": [
            "o valor de x é 5\n"
          ]
        }
      ]
    },
    {
      "cell_type": "code",
      "source": [
        "print(\"o valor de x é\", x ,\"e o dobro de x é\", x*2)"
      ],
      "metadata": {
        "colab": {
          "base_uri": "https://localhost:8080/"
        },
        "id": "phczRyzeSwPd",
        "outputId": "61d83a2d-14ad-49cf-bcc9-953e152d6339"
      },
      "execution_count": 10,
      "outputs": [
        {
          "output_type": "stream",
          "name": "stdout",
          "text": [
            "o valor de x é 5 e o dobro de x é 10\n"
          ]
        }
      ]
    },
    {
      "cell_type": "code",
      "source": [
        "print(\" eu,\", nome , \"tirei\", x , \"na prova de python\")"
      ],
      "metadata": {
        "colab": {
          "base_uri": "https://localhost:8080/"
        },
        "id": "yU6Rvtd0TBYs",
        "outputId": "fca8b17e-924f-42d9-fff1-e9256244640f"
      },
      "execution_count": 11,
      "outputs": [
        {
          "output_type": "stream",
          "name": "stdout",
          "text": [
            " eu, Rafael tirei 5 na prova de python\n"
          ]
        }
      ]
    },
    {
      "cell_type": "code",
      "source": [
        "y=10; z=20+x-y\n",
        "print(x,y,z)"
      ],
      "metadata": {
        "colab": {
          "base_uri": "https://localhost:8080/"
        },
        "id": "mo7IVnHpTZrl",
        "outputId": "7eb413ff-0bc1-47b6-ec5e-75474ca7de97"
      },
      "execution_count": 14,
      "outputs": [
        {
          "output_type": "stream",
          "name": "stdout",
          "text": [
            "5 10 15\n"
          ]
        }
      ]
    },
    {
      "cell_type": "markdown",
      "source": [
        "TYPE"
      ],
      "metadata": {
        "id": "ViHHUPRHT2pi"
      }
    },
    {
      "cell_type": "code",
      "source": [
        "x=10\n",
        "type(x)\n",
        "print('x' , type(x))\n",
        "\n",
        "name=\"rafael\"\n",
        "type(name)\n",
        "print('name', type(name))\n",
        "\n",
        "num=\"100\"\n",
        "type(num)\n",
        "print(\"num\", type(num))\n",
        "\n",
        "num_convert=int(num)\n",
        "print('num', type(num))\n",
        "\n",
        "print('num_convert', type(num_convert))\n",
        "\n",
        "num_float=float(num)\n",
        "print(\"num_float\", num_float , type(num_float))\n"
      ],
      "metadata": {
        "colab": {
          "base_uri": "https://localhost:8080/"
        },
        "id": "ua2D0NqHT6FG",
        "outputId": "39631c23-f8bb-4d5c-9bbb-fa34780eff04"
      },
      "execution_count": 21,
      "outputs": [
        {
          "output_type": "stream",
          "name": "stdout",
          "text": [
            "x <class 'int'>\n",
            "name <class 'str'>\n",
            "num <class 'str'>\n",
            "num <class 'str'>\n",
            "num_convert <class 'int'>\n",
            "num_float 100.0 <class 'float'>\n"
          ]
        }
      ]
    },
    {
      "cell_type": "markdown",
      "source": [
        "INPUT"
      ],
      "metadata": {
        "id": "2I3n85pAWPNT"
      }
    },
    {
      "cell_type": "code",
      "source": [
        "name=input('digite o nome do usuário ')\n",
        "print(name)"
      ],
      "metadata": {
        "colab": {
          "base_uri": "https://localhost:8080/"
        },
        "id": "6gRchoNBXM3c",
        "outputId": "e4ba2985-e0a3-47c9-a546-d8dd84d136e5"
      },
      "execution_count": 27,
      "outputs": [
        {
          "output_type": "stream",
          "name": "stdout",
          "text": [
            "digite o nome do usuário Rafael\n",
            "Rafael\n"
          ]
        }
      ]
    },
    {
      "cell_type": "code",
      "source": [
        "valor=input('digite sua nota ')\n",
        "print(name, \"sua nota foi \", valor)"
      ],
      "metadata": {
        "colab": {
          "base_uri": "https://localhost:8080/"
        },
        "id": "9cQFnpsMXbAK",
        "outputId": "6a19afdb-5a6c-4775-fdb3-699ffc87bbc9"
      },
      "execution_count": 28,
      "outputs": [
        {
          "output_type": "stream",
          "name": "stdout",
          "text": [
            "digite sua nota 5\n",
            "Rafael sua nota foi  5\n"
          ]
        }
      ]
    },
    {
      "cell_type": "code",
      "source": [
        "valor=input(\"digite o valor do produto \")\n",
        "print(valor)"
      ],
      "metadata": {
        "colab": {
          "base_uri": "https://localhost:8080/"
        },
        "id": "0ovF2odHXv7W",
        "outputId": "0e7a0c06-1f1d-4897-b809-58f71e5bed76"
      },
      "execution_count": 29,
      "outputs": [
        {
          "output_type": "stream",
          "name": "stdout",
          "text": [
            "digite o valor do produto 100\n",
            "100\n"
          ]
        }
      ]
    },
    {
      "cell_type": "code",
      "source": [
        "valor_convert=int(valor)\n",
        "desconto=valor_convert-5\n",
        "\n",
        "print(desconto)"
      ],
      "metadata": {
        "colab": {
          "base_uri": "https://localhost:8080/"
        },
        "id": "GzusY2jkYbE9",
        "outputId": "9540faa2-98e9-4e18-98df-8ea35f2674a3"
      },
      "execution_count": 35,
      "outputs": [
        {
          "output_type": "stream",
          "name": "stdout",
          "text": [
            "95\n"
          ]
        }
      ]
    }
  ]
}