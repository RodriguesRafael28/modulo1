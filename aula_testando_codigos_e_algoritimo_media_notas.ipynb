{
  "nbformat": 4,
  "nbformat_minor": 0,
  "metadata": {
    "colab": {
      "provenance": []
    },
    "kernelspec": {
      "name": "python3",
      "display_name": "Python 3"
    },
    "language_info": {
      "name": "python"
    }
  },
  "cells": [
    {
      "cell_type": "code",
      "execution_count": 5,
      "metadata": {
        "colab": {
          "base_uri": "https://localhost:8080/"
        },
        "id": "blCzDESA4M7F",
        "outputId": "340b9721-640c-437d-ada7-800d8ccb7046"
      },
      "outputs": [
        {
          "output_type": "stream",
          "name": "stdout",
          "text": [
            "digite sua senha132587\n",
            "acesso liberado\n"
          ]
        }
      ],
      "source": [
        "#sistema simple de validação de senha\n",
        "\n",
        "senha_acesso='132587'\n",
        "senha_usuario=input('digite sua senha')\n",
        "if senha_acesso==senha_usuario:\n",
        "  print('acesso liberado')\n",
        "else:\n",
        "  print('acesso negado')"
      ]
    },
    {
      "cell_type": "code",
      "source": [
        "#loop while\n",
        "\n",
        "contador=0\n",
        "while contador<5:\n",
        "  print('isso é a iteração número ', contador)\n",
        "  contador+=1"
      ],
      "metadata": {
        "colab": {
          "base_uri": "https://localhost:8080/"
        },
        "id": "LDmbXMr-Epfe",
        "outputId": "09e24672-4f3c-484f-f37d-80457df13729"
      },
      "execution_count": 6,
      "outputs": [
        {
          "output_type": "stream",
          "name": "stdout",
          "text": [
            "isso é a iteração número  0\n",
            "isso é a iteração número  1\n",
            "isso é a iteração número  2\n",
            "isso é a iteração número  3\n",
            "isso é a iteração número  4\n"
          ]
        }
      ]
    },
    {
      "cell_type": "code",
      "source": [
        "from collections.abc import Sequence\n",
        "#loop for\n",
        "\n",
        "cores=['azul','amarelo','roxo','laranja','rosa','vermelho']\n",
        "for cor in cores:\n",
        "  print('eu gosto de', cor)"
      ],
      "metadata": {
        "colab": {
          "base_uri": "https://localhost:8080/"
        },
        "id": "sx02PbUqF6Yi",
        "outputId": "c9018637-f2ac-4b8c-be42-60f266a978e2"
      },
      "execution_count": 13,
      "outputs": [
        {
          "output_type": "stream",
          "name": "stdout",
          "text": [
            "eu gosto de azul\n",
            "eu gosto de amarelo\n",
            "eu gosto de roxo\n",
            "eu gosto de laranja\n",
            "eu gosto de rosa\n",
            "eu gosto de vermelho\n"
          ]
        }
      ]
    },
    {
      "cell_type": "code",
      "source": [
        "#lista de notas de alunos\n",
        "\n",
        "notas=[]\n",
        "\n",
        "n1=input('primeiro bimestre ')\n",
        "print(n1)\n",
        "notas.append(float(n1))\n",
        "\n",
        "n2=input('segundo bimestre ')\n",
        "print(n2)\n",
        "notas.append(float(n2))\n",
        "\n",
        "n3=input('terceiro bimestre ')\n",
        "print(n3)\n",
        "notas.append(float(n3))\n",
        "\n",
        "n4=input('quarto bimestre ')\n",
        "print(n4)\n",
        "notas.append(float(n4))\n",
        "\n",
        "numero_notas=len(notas)\n",
        "soma_notas=sum(notas)\n",
        "media_notas=soma_notas/numero_notas\n",
        "\n",
        "print(f\"\\nNotas digitadas: {notas}\")\n",
        "print(f\"A soma das notas é: {soma_notas}\")\n",
        "print(f\"A media das notas é: {media_notas:.2f}\")\n",
        "\n",
        "if media_notas <=4:\n",
        "  print('reprovado')\n",
        "else:\n",
        "  print('aprovado')"
      ],
      "metadata": {
        "colab": {
          "base_uri": "https://localhost:8080/"
        },
        "id": "7aQk_4mPHBH3",
        "outputId": "40cbdcf7-9410-4338-b29b-185971f29177"
      },
      "execution_count": 37,
      "outputs": [
        {
          "output_type": "stream",
          "name": "stdout",
          "text": [
            "primeiro bimestre 10\n",
            "10\n",
            "segundo bimestre 9\n",
            "9\n",
            "terceiro bimestre 10\n",
            "10\n",
            "quarto bimestre 8\n",
            "8\n",
            "\n",
            "Notas digitadas: [10.0, 9.0, 10.0, 8.0]\n",
            "A soma das notas é: 37.0\n",
            "A media das notas é: 9.25\n",
            "aprovado\n"
          ]
        }
      ]
    },
    {
      "cell_type": "code",
      "source": [
        "notas=[]\n",
        "\n",
        "n1=input('primeiro bimestre ')\n",
        "print(n1)\n",
        "notas.append(float(n1))\n",
        "\n",
        "n2=input('segundo bimestre ')\n",
        "print(n2)\n",
        "notas.append(float(n2))\n",
        "\n",
        "n3=input('terceiro bimestre ')\n",
        "print(n3)\n",
        "notas.append(float(n3))\n",
        "\n",
        "n4=input('quarto bimestre ')\n",
        "print(n4)\n",
        "notas.append(float(n4))\n",
        "\n",
        "numero_notas=len(notas)\n",
        "soma_notas=sum(notas)\n",
        "media_notas=soma_notas/numero_notas\n",
        "\n",
        "print(f\"\\nNotas digitadas , {notas}\")\n",
        "print(f\"soma das notas  , {soma_notas}\")\n",
        "print(f\"media das notas , {media_notas:.2f}\")\n",
        "\n",
        "if media_notas<=4:\n",
        "  print(\"reprovado\")\n",
        "else:\n",
        "  print(\"aprovado\")"
      ],
      "metadata": {
        "colab": {
          "base_uri": "https://localhost:8080/"
        },
        "id": "sezpJFCRPYmO",
        "outputId": "bd043fb0-af6d-4edb-ce5e-6135c754b240"
      },
      "execution_count": 50,
      "outputs": [
        {
          "output_type": "stream",
          "name": "stdout",
          "text": [
            "primeiro bimestre 10\n",
            "10\n",
            "segundo bimestre 9\n",
            "9\n",
            "terceiro bimestre 5\n",
            "5\n",
            "quarto bimestre 10\n",
            "10\n",
            "\n",
            "Notas digitadas , [10.0, 9.0, 5.0, 10.0]\n",
            "soma das notas  , 34.0\n",
            "media das notas , 8.50\n",
            "aprovado\n"
          ]
        }
      ]
    }
  ]
}