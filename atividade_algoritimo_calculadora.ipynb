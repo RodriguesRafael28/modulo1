{
  "nbformat": 4,
  "nbformat_minor": 0,
  "metadata": {
    "colab": {
      "provenance": []
    },
    "kernelspec": {
      "name": "python3",
      "display_name": "Python 3"
    },
    "language_info": {
      "name": "python"
    }
  },
  "cells": [
    {
      "cell_type": "code",
      "execution_count": 78,
      "metadata": {
        "colab": {
          "base_uri": "https://localhost:8080/"
        },
        "id": "f4aiXqtLMWhK",
        "outputId": "a477af8f-cbe0-4b29-a593-d91ea63a8f73"
      },
      "outputs": [
        {
          "output_type": "stream",
          "name": "stdout",
          "text": [
            "Digite a operacao desejada (+,-,*,/): /\n",
            "Digite o primeiro número: 10.9\n",
            "Digite o segundo número: 3.7\n",
            "2.945945945945946\n"
          ]
        }
      ],
      "source": [
        "\n",
        "#escolhendo a operação desejada\n",
        "operacao = input(\"Digite a operacao desejada (+,-,*,/): \")\n",
        "\n",
        "#escolhendo os números da operação\n",
        "numero1 = input(\"Digite o primeiro número: \")\n",
        "numero2 = input(\"Digite o segundo número: \")\n",
        "\n",
        "#operadores condicionais\n",
        "if operacao == \"+\":\n",
        "\tresultado = float(numero1) + float(numero2)\n",
        "if operacao == \"-\":\n",
        "\tresultado = float(numero1) - float(numero2)\n",
        "if operacao == \"*\":\n",
        "\tresultado = float(numero1) * float(numero2)\n",
        "if operacao == \"/\":\n",
        "\tresultado = float(numero1) / float(numero2)\n",
        "\n",
        "#exibindo o resultado\n",
        "if resultado<= float(999):\n",
        "  print(resultado)\n",
        "else:\n",
        "  print('erro! essa calculadora calcula somente números centesimais')\n",
        "\n",
        "\n"
      ]
    }
  ]
}